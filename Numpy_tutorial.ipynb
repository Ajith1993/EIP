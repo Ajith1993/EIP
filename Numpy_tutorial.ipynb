{
 "cells": [
  {
   "cell_type": "markdown",
   "metadata": {},
   "source": [
    "# Python "
   ]
  },
  {
   "cell_type": "markdown",
   "metadata": {},
   "source": [
    "Python is a high-level, dynamically typed multiparadigm programming language. Python code is often said to be almost like pseudocode, since it allows you to express very powerful ideas in very few lines of code while being very readable. As an example, here is an implementation of the classic quicksort algorithm in Python:"
   ]
  },
  {
   "cell_type": "code",
   "execution_count": null,
   "metadata": {},
   "outputs": [],
   "source": [
    "def quicksort(eip):\n",
    "    if len(eip) <= 1:\n",
    "        return eip\n",
    "    mlbr = eip[len(eip) // 2]\n",
    "    eip_in = [x for x in eip if x < mlbr]\n",
    "    eip_out = [x for x in eip if x == mlbr]\n",
    "    mlblr_in = [x for x in eip if x > mlbr]\n",
    "    return quicksort(eip_in) + eip_out + quicksort(mlblr_in)\n",
    "\n",
    "print(quicksort([3,6,8,10,1,2,1]))\n",
    "# Prints \"[1, 1, 2, 3, 6, 8, 10]\""
   ]
  },
  {
   "cell_type": "markdown",
   "metadata": {},
   "source": [
    "Basic data types\n",
    "\n",
    "Like most languages, Python has a number of basic types including integers, floats, booleans, and strings. These data types behave in ways that are familiar from other programming languages.\n",
    "Numbers: Integers and floats work as you would expect from other languages:"
   ]
  },
  {
   "cell_type": "code",
   "execution_count": null,
   "metadata": {},
   "outputs": [],
   "source": [
    "eip = 3\n",
    "print(type(eip)) # Prints \"<class 'int'>\"\n",
    "print(eip)       # Prints \"3\"\n",
    "print(eip + 1)   # Addition; prints \"4\"\n",
    "print(eip - 1)   # Subtraction; prints \"2\"\n",
    "print(eip * 2)   # Multiplication; prints \"6\"\n",
    "print(eip ** 2)  # Exponentiation; prints \"9\"\n",
    "eip += 1\n",
    "print(eip)  # Prints \"4\"\n",
    "eip *= 2\n",
    "print(eip)  # Prints \"8\"\n",
    "mlblr = 2.5\n",
    "print(type(mlblr)) # Prints \"<class 'float'>\"\n",
    "print(mlblr, mlblr + 1, mlblr * 2, mlblr ** 2) # Prints \"2.5 3.5 5.0 6.25\""
   ]
  },
  {
   "cell_type": "markdown",
   "metadata": {},
   "source": [
    "Booleans: \n",
    "Python implements all of the usual operators for Boolean logic, but uses English words rather than symbols (&&, ||, etc.):"
   ]
  },
  {
   "cell_type": "code",
   "execution_count": null,
   "metadata": {},
   "outputs": [],
   "source": [
    "eip = True\n",
    "mlblr = False\n",
    "print(type(eip)) # Prints \"<class 'bool'>\"\n",
    "print(eip and mlblr) # Logical AND; prints \"False\"\n",
    "print(eip or mlblr)  # Logical OR; prints \"True\"\n",
    "print(not eip)   # Logical NOT; prints \"False\"\n",
    "print(eip != mlblr)  # Logical XOR; prints \"True\""
   ]
  },
  {
   "cell_type": "markdown",
   "metadata": {},
   "source": [
    "Strings:\n",
    "Python has great support for strings:"
   ]
  },
  {
   "cell_type": "code",
   "execution_count": null,
   "metadata": {},
   "outputs": [],
   "source": [
    "eip = 'eip'    # String literals can use single quotes\n",
    "mlblr = \"mlblr\"    # or double quotes; it does not matter.\n",
    "print(eip)       # Prints \"eip\"\n",
    "print(len(eip))  # String length; prints \"5\"\n",
    "eip_in = eip + ' ' + mlblr  # String concatenation\n",
    "print(eip_in)  # prints \"eip mlblr\"\n",
    "eip_out = '%s %s %d' % (eip, mlblr, 12)  # sprintf style string formatting\n",
    "print(hw12)  # prints \"eip mlblr 12\""
   ]
  },
  {
   "cell_type": "code",
   "execution_count": null,
   "metadata": {},
   "outputs": [],
   "source": [
    "eip = \"hello\"\n",
    "print(eip.capitalize())  # Capitalize a string; prints \"Hello\"\n",
    "print(eip.upper())       # Convert a string to uppercase; prints \"HELLO\"\n",
    "print(eip.rjust(7))      # Right-justify a string, padding with spaces; prints \"  hello\"\n",
    "print(eip.center(7))     # Center a string, padding with spaces; prints \" hello \"\n",
    "print(eip.replace('l', '(ell)'))  # Replace all instances of one substring with another;\n",
    "                                # prints \"he(ell)(ell)o\"\n",
    "print('  world '.strip())  # Strip leading and trailing whitespace; prints \"world\""
   ]
  },
  {
   "cell_type": "markdown",
   "metadata": {},
   "source": [
    "Containers:\n",
    "Python includes several built-in container types: lists, dictionaries, sets, and tuples."
   ]
  },
  {
   "cell_type": "code",
   "execution_count": null,
   "metadata": {},
   "outputs": [],
   "source": [
    "eip = [3, 1, 2]    # Create a list\n",
    "print(eip, eip[2])  # Prints \"[3, 1, 2] 2\"\n",
    "print(eip[-1])     # Negative indices count from the end of the list; prints \"2\"\n",
    "eip[2] = 'foo'     # Lists can contain elements of different types\n",
    "print(eip)         # Prints \"[3, 1, 'foo']\"\n",
    "eip.append('bar')  # Add a new element to the end of the list\n",
    "print(eip)         # Prints \"[3, 1, 'foo', 'bar']\"\n",
    "x = eip.pop()      # Remove and return the last element of the list\n",
    "print(x, eip)      # Prints \"bar [3, 1, 'foo']\""
   ]
  },
  {
   "cell_type": "markdown",
   "metadata": {},
   "source": [
    "Slicing: \n",
    "In addition to accessing list elements one at a time, Python provides concise syntax to access sublists; this is known as slicing:"
   ]
  },
  {
   "cell_type": "code",
   "execution_count": null,
   "metadata": {},
   "outputs": [],
   "source": [
    "mlblr = list(range(5))     # range is a built-in function that creates a list of integers\n",
    "print(mlblr)               # Prints \"[0, 1, 2, 3, 4]\"\n",
    "print(mlblr[2:4])          # Get a slice from index 2 to 4 (exclusive); prints \"[2, 3]\"\n",
    "print(mlblr[2:])           # Get a slice from index 2 to the end; prints \"[2, 3, 4]\"\n",
    "print(mlblr[:2])           # Get a slice from the start to index 2 (exclusive); prints \"[0, 1]\"\n",
    "print(mlblr[:])            # Get a slice of the whole list; prints \"[0, 1, 2, 3, 4]\"\n",
    "print(mlblr[:-1])          # Slice indices can be negative; prints \"[0, 1, 2, 3]\"\n",
    "mlblr[2:4] = [8, 9]        # Assign a new sublist to a slice\n",
    "print(mlblr)               # Prints \"[0, 1, 8, 9, 4]\""
   ]
  },
  {
   "cell_type": "markdown",
   "metadata": {},
   "source": [
    "Loops: You can loop over the elements of a list like this:"
   ]
  },
  {
   "cell_type": "code",
   "execution_count": null,
   "metadata": {},
   "outputs": [],
   "source": [
    "mlblrs = ['cat', 'dog', 'monkey']\n",
    "for mlblr in mlblrs:\n",
    "    print(mlblr)\n",
    "# Prints \"cat\", \"dog\", \"monkey\", each on its own line."
   ]
  },
  {
   "cell_type": "code",
   "execution_count": null,
   "metadata": {},
   "outputs": [],
   "source": [
    "mlblrs = ['cat', 'dog', 'monkey']\n",
    "for idx, mlblr in enumerate(mlblrs):\n",
    "    print('#%d: %s' % (idx + 1, mlblr))\n",
    "# Prints \"#1: cat\", \"#2: dog\", \"#3: monkey\", each on its own line"
   ]
  },
  {
   "cell_type": "markdown",
   "metadata": {},
   "source": [
    "List comprehensions: When programming, frequently we want to transform one type of data into another. As a simple example, consider the following code that computes square numbers:"
   ]
  },
  {
   "cell_type": "code",
   "execution_count": null,
   "metadata": {},
   "outputs": [],
   "source": [
    "eip = [0, 1, 2, 3, 4]\n",
    "mlblr = []\n",
    "for x in eip:\n",
    "    mlblr.append(x ** 2)\n",
    "print(mlblr)   # Prints [0, 1, 4, 9, 16]"
   ]
  },
  {
   "cell_type": "code",
   "execution_count": null,
   "metadata": {},
   "outputs": [],
   "source": [
    "eip_in = [0, 1, 2, 3, 4]\n",
    "mlblr_out = [x ** 2 for x in eip_in]\n",
    "print(mlblr_out)   # Prints [0, 1, 4, 9, 16]"
   ]
  },
  {
   "cell_type": "code",
   "execution_count": null,
   "metadata": {},
   "outputs": [],
   "source": [
    "eip = [0, 1, 2, 3, 4]\n",
    "mlblr = [x ** 2 for x in eip if x % 2 == 0]\n",
    "print(mlblr)  # Prints \"[0, 4, 16]\""
   ]
  },
  {
   "cell_type": "markdown",
   "metadata": {},
   "source": [
    "Dictionaries\n",
    "\n",
    "A dictionary stores (key, value) pairs, similar to a Map in Java or an object in Javascript. You can use it like this:"
   ]
  },
  {
   "cell_type": "code",
   "execution_count": null,
   "metadata": {},
   "outputs": [],
   "source": [
    "eip_dict = {'cat': 'cute', 'dog': 'furry'}  # Create a new dictionary with some data\n",
    "print(eip_dict['cat'])       # Get an entry from a dictionary; prints \"cute\"\n",
    "print('cat' in eip_dict)     # Check if a dictionary has a given key; prints \"True\"\n",
    "eip_dict['fish'] = 'wet'     # Set an entry in a dictionary\n",
    "print(eip_dict['fish'])      # Prints \"wet\"\n",
    "# print(eip_dict['monkey'])  # KeyError: 'monkey' not a key of eip_dict\n",
    "print(eip_dict.get('monkey', 'N/A'))  # Get an element with a default; prints \"N/A\"\n",
    "print(eip_dict.get('fish', 'N/A'))    # Get an element with a default; prints \"wet\"\n",
    "del eip_dict['fish']         # Remove an element from a dictionary\n",
    "print(eip_dict.get('fish', 'N/A')) # \"fish\" is no longer a key; prints \"N/A\""
   ]
  },
  {
   "cell_type": "markdown",
   "metadata": {},
   "source": [
    "Loops: It is easy to iterate over the keys in a dictionary:"
   ]
  },
  {
   "cell_type": "code",
   "execution_count": null,
   "metadata": {},
   "outputs": [],
   "source": [
    "eip_dict = {'person': 2, 'cat': 4, 'spider': 8}\n",
    "for animal in eip_dict:\n",
    "    legs = eip_dict[animal]\n",
    "    print('A %s has %d legs' % (animal, legs))\n",
    "# Prints \"A person has 2 legs\", \"A cat has 4 legs\", \"A spider has 8 legs\""
   ]
  },
  {
   "cell_type": "code",
   "execution_count": null,
   "metadata": {},
   "outputs": [],
   "source": [
    "eip_dict = {'person': 2, 'cat': 4, 'spider': 8}\n",
    "for animal, legs in eip_dict.items():\n",
    "    print('A %s has %d legs' % (animal, legs))\n",
    "# Prints \"A person has 2 legs\", \"A cat has 4 legs\", \"A spider has 8 legs\""
   ]
  },
  {
   "cell_type": "markdown",
   "metadata": {},
   "source": [
    "Dictionary comprehensions: These are similar to list comprehensions, but allow you to easily construct dictionaries. For example:"
   ]
  },
  {
   "cell_type": "code",
   "execution_count": null,
   "metadata": {},
   "outputs": [],
   "source": [
    "eip_in = [0, 1, 2, 3, 4]\n",
    "eip_out = {x: x ** 2 for x in eip_in if x % 2 == 0}\n",
    "print(eip_out)  # Prints \"{0: 0, 2: 4, 4: 16}\""
   ]
  },
  {
   "cell_type": "markdown",
   "metadata": {},
   "source": [
    "Sets\n",
    "\n",
    "A set is an unordered collection of distinct elements. As a simple example, consider the following:"
   ]
  },
  {
   "cell_type": "code",
   "execution_count": null,
   "metadata": {},
   "outputs": [],
   "source": [
    "mlblr = {'cat', 'dog'}\n",
    "print('cat' in mlblr)   # Check if an element is in a set; prints \"True\"\n",
    "print('fish' in mlblr)  # prints \"False\"\n",
    "mlblr.add('fish')       # Add an element to a set\n",
    "print('fish' in mlblr)  # Prints \"True\"\n",
    "print(len(mlblr))       # Number of elements in a set; prints \"3\"\n",
    "mlblr.add('cat')        # Adding an element that is already in the set does nothing\n",
    "print(len(mlblr))       # Prints \"3\"\n",
    "mlblr.remove('cat')     # Remove an element from a set\n",
    "print(len(mlblr))       # Prints \"2\""
   ]
  },
  {
   "cell_type": "code",
   "execution_count": null,
   "metadata": {},
   "outputs": [],
   "source": [
    "mlblrs = {'cat', 'dog', 'fish'}\n",
    "for idx, mlblr in enumerate(mlblrs):\n",
    "    print('#%d: %s' % (idx + 1, mlblr))\n",
    "# Prints \"#1: fish\", \"#2: dog\", \"#3: cat\""
   ]
  },
  {
   "cell_type": "code",
   "execution_count": null,
   "metadata": {},
   "outputs": [],
   "source": [
    "from math import sqrt\n",
    "eip_in = {int(sqrt(x)) for x in range(30)}\n",
    "print(eip_in)  # Prints \"{0, 1, 2, 3, 4, 5}\""
   ]
  },
  {
   "cell_type": "markdown",
   "metadata": {},
   "source": [
    "Tuples\n",
    "\n",
    "A tuple is an (immutable) ordered list of values. A tuple is in many ways similar to a list; one of the most important differences is that tuples can be used as keys in dictionaries and as elements of sets, while lists cannot. Here is a trivial example:"
   ]
  },
  {
   "cell_type": "code",
   "execution_count": null,
   "metadata": {},
   "outputs": [],
   "source": [
    "eip_dict = {(x, x + 1): x for x in range(10)}  # Create a dictionary with tuple keys\n",
    "eip_tuple = (5, 6)        # Create a tuple\n",
    "print(type(eip_tuple))    # Prints \"<class 'tuple'>\"\n",
    "print(eip_dict[eip_tuple])       # Prints \"5\"\n",
    "print(eip_dict[(1, 2)])  # Prints \"1\""
   ]
  },
  {
   "cell_type": "markdown",
   "metadata": {},
   "source": [
    "Functions\n",
    "\n",
    "Python functions are defined using the def keyword. For example:"
   ]
  },
  {
   "cell_type": "code",
   "execution_count": null,
   "metadata": {},
   "outputs": [],
   "source": [
    "def eip(d):\n",
    "    if d > 0:\n",
    "        return 'positive'\n",
    "    elif d < 0:\n",
    "        return 'negative'\n",
    "    else:\n",
    "        return 'zero'\n",
    "\n",
    "for d in [-1, 0, 1]:\n",
    "    print(eip(d))\n",
    "# Prints \"negative\", \"zero\", \"positive\""
   ]
  },
  {
   "cell_type": "code",
   "execution_count": null,
   "metadata": {},
   "outputs": [],
   "source": [
    "def hello(eip, mlblr=False):\n",
    "    if mlblr:\n",
    "        print('HELLO, %s!' % eip.upper())\n",
    "    else:\n",
    "        print('Hello, %s' % eip)\n",
    "\n",
    "hello('Bob') # Prints \"Hello, Bob\"\n",
    "hello('Fred', mlblr=True)  # Prints \"HELLO, FRED!\""
   ]
  },
  {
   "cell_type": "markdown",
   "metadata": {},
   "source": [
    "Classes\n",
    "\n",
    "The syntax for defining classes in Python is straightforward:"
   ]
  },
  {
   "cell_type": "code",
   "execution_count": null,
   "metadata": {},
   "outputs": [],
   "source": [
    "class EIP(object):\n",
    "\n",
    "    # Constructor\n",
    "    def __init__(self, name):\n",
    "        self.name = name  # Create an instance variable\n",
    "\n",
    "    # Instance method\n",
    "    def eip(self, loud=False):\n",
    "        if loud:\n",
    "            print('HELLO, %s!' % self.name.upper())\n",
    "        else:\n",
    "            print('Hello, %s' % self.name)\n",
    "\n",
    "g = EIP('Fred')  # Construct an instance of the Greeter class\n",
    "g.eip()            # Call an instance method; prints \"Hello, Fred\"\n",
    "g.eip(loud=True)   # Call an instance method; prints \"HELLO, FRED!\""
   ]
  },
  {
   "cell_type": "markdown",
   "metadata": {},
   "source": [
    "Arrays\n",
    "\n",
    "A numpy array is a grid of values, all of the same type, and is indexed by a tuple of nonnegative integers. The number of dimensions is the rank of the array; the shape of an array is a tuple of integers giving the size of the array along each dimension.\n",
    "\n",
    "We can initialize numpy arrays from nested Python lists, and access elements using square brackets:"
   ]
  },
  {
   "cell_type": "code",
   "execution_count": null,
   "metadata": {},
   "outputs": [],
   "source": [
    "import numpy as np\n",
    "\n",
    "eip = np.array([1, 2, 3])   # Create a rank 1 array\n",
    "print(type(eip))            # Prints \"<class 'numpy.ndarray'>\"\n",
    "print(eip.shape)            # Prints \"(3,)\"\n",
    "print(eip[0], eip[1], a[2])   # Prints \"1 2 3\"\n",
    "eip[0] = 5                  # Change an element of the array\n",
    "print(a)                  # Prints \"[5, 2, 3]\"\n",
    "\n",
    "mlblr = np.array([[1,2,3],[4,5,6]])    # Create a rank 2 array\n",
    "print(mlblr.shape)                     # Prints \"(2, 3)\"\n",
    "print(mlblr[0, 0], mlblr[0, 1], mlblr[1, 0])   # Prints \"1 2 4\""
   ]
  },
  {
   "cell_type": "code",
   "execution_count": null,
   "metadata": {},
   "outputs": [],
   "source": [
    "import numpy as np\n",
    "\n",
    "eip = np.zeros((2,2))   # Create an array of all zeros\n",
    "print(eip)              # Prints \"[[ 0.  0.]\n",
    "                      #          [ 0.  0.]]\"\n",
    "\n",
    "mlblr = np.ones((1,2))    # Create an array of all ones\n",
    "print(mlblr)              # Prints \"[[ 1.  1.]]\"\n",
    "\n",
    "eip_in = np.full((2,2), 7)  # Create a constant array\n",
    "print(eip_in)               # Prints \"[[ 7.  7.]\n",
    "                       #          [ 7.  7.]]\"\n",
    "\n",
    "d = np.eye(2)         # Create a 2x2 identity matrix\n",
    "print(d)              # Prints \"[[ 1.  0.]\n",
    "                      #          [ 0.  1.]]\"\n",
    "\n",
    "e = np.random.random((2,2))  # Create an array filled with random values\n",
    "print(e)                     # Might print \"[[ 0.91940167  0.08143941]\n",
    "                             #               [ 0.68744134  0.87236687]]\""
   ]
  },
  {
   "cell_type": "markdown",
   "metadata": {},
   "source": [
    "Array indexing\n",
    "\n",
    "Numpy offers several ways to index into arrays.\n",
    "\n",
    "Slicing: Similar to Python lists, numpy arrays can be sliced. Since arrays may be multidimensional, you must specify a slice for each dimension of the array:"
   ]
  },
  {
   "cell_type": "code",
   "execution_count": null,
   "metadata": {},
   "outputs": [],
   "source": [
    "import numpy as np\n",
    "\n",
    "# Create the following rank 2 array with shape (3, 4)\n",
    "# [[ 1  2  3  4]\n",
    "#  [ 5  6  7  8]\n",
    "#  [ 9 10 11 12]]\n",
    "eip = np.array([[1,2,3,4], [5,6,7,8], [9,10,11,12]])\n",
    "\n",
    "# Use slicing to pull out the subarray consisting of the first 2 rows\n",
    "# and columns 1 and 2; b is the following array of shape (2, 2):\n",
    "# [[2 3]\n",
    "#  [6 7]]\n",
    "eip_out = eip[:2, 1:3]\n",
    "\n",
    "# A slice of an array is a view into the same data, so modifying it\n",
    "# will modify the original array.\n",
    "print(a[0, 1])   # Prints \"2\"\n",
    "eip_out[0, 0] = 77     # eip_out[0, 0] is the same piece of data as a[0, 1]\n",
    "print(a[0, 1])   # Prints \"77\""
   ]
  },
  {
   "cell_type": "code",
   "execution_count": null,
   "metadata": {},
   "outputs": [],
   "source": [
    "import numpy as np\n",
    "\n",
    "# Create the following rank 2 array with shape (3, 4)\n",
    "# [[ 1  2  3  4]\n",
    "#  [ 5  6  7  8]\n",
    "#  [ 9 10 11 12]]\n",
    "eip = np.array([[1,2,3,4], [5,6,7,8], [9,10,11,12]])\n",
    "\n",
    "# Two ways of accessing the data in the middle row of the array.\n",
    "# Mixing integer indexing with slices yields an array of lower rank,\n",
    "# while using only slices yields an array of the same rank as the\n",
    "# original array:\n",
    "row_r1 = eip[1, :]    # Rank 1 view of the second row of eip\n",
    "row_r2 = eip[1:2, :]  # Rank 2 view of the second row of eip\n",
    "print(row_r1, row_r1.shape)  # Prints \"[5 6 7 8] (4,)\"\n",
    "print(row_r2, row_r2.shape)  # Prints \"[[5 6 7 8]] (1, 4)\"\n",
    "\n",
    "# We can make the same distinction when accessing columns of an array:\n",
    "col_r1 = eip[:, 1]\n",
    "col_r2 = eip[:, 1:2]\n",
    "print(col_r1, col_r1.shape)  # Prints \"[ 2  6 10] (3,)\"\n",
    "print(col_r2, col_r2.shape)  # Prints \"[[ 2]\n",
    "                             #          [ 6]\n",
    "                             #          [10]] (3, 1)\""
   ]
  },
  {
   "cell_type": "markdown",
   "metadata": {},
   "source": [
    "Integer array indexing: When you index into numpy arrays using slicing, the resulting array view will always be a subarray of the original array. In contrast, integer array indexing allows you to construct arbitrary arrays using the data from another array. Here is an example:"
   ]
  },
  {
   "cell_type": "code",
   "execution_count": null,
   "metadata": {},
   "outputs": [],
   "source": [
    "import numpy as np\n",
    "\n",
    "eip = np.array([[1,2], [3, 4], [5, 6]])\n",
    "\n",
    "# An example of integer array indexing.\n",
    "# The returned array will have shape (3,) and\n",
    "print(eip[[0, 1, 2], [0, 1, 0]])  # Prints \"[1 4 5]\"\n",
    "\n",
    "# The above example of integer array indexing is equivalent to this:\n",
    "print(np.array([eip[0, 0], eip[1, 1], eip[2, 0]]))  # Prints \"[1 4 5]\"\n",
    "\n",
    "# When using integer array indexing, you can reuse the same\n",
    "# element from the source array:\n",
    "print(eip[[0, 0], [1, 1]])  # Prints \"[2 2]\"\n",
    "\n",
    "# Equivalent to the previous integer array indexing example\n",
    "print(np.array([eip[0, 1], eip[0, 1]]))  # Prints \"[2 2]\""
   ]
  },
  {
   "cell_type": "code",
   "execution_count": null,
   "metadata": {},
   "outputs": [],
   "source": [
    "import numpy as np\n",
    "\n",
    "# Create a new array from which we will select elements\n",
    "eip = np.array([[1,2,3], [4,5,6], [7,8,9], [10, 11, 12]])\n",
    "\n",
    "print(eip)  # prints \"array([[ 1,  2,  3],\n",
    "          #                [ 4,  5,  6],\n",
    "          #                [ 7,  8,  9],\n",
    "          #                [10, 11, 12]])\"\n",
    "\n",
    "# Create an array of indices\n",
    "mlblr = np.array([0, 2, 0, 1])\n",
    "\n",
    "# Select one element from each row of a using the indices in b\n",
    "print(eip[np.arange(4), mlblr])  # Prints \"[ 1  6  7 11]\"\n",
    "\n",
    "# Mutate one element from each row of a using the indices in b\n",
    "eip[np.arange(4), mlblr] += 10\n",
    "\n",
    "print(eip)  # prints \"array([[11,  2,  3],\n",
    "          #                [ 4,  5, 16],\n",
    "          #                [17,  8,  9],\n",
    "          #                [10, 21, 12]])"
   ]
  },
  {
   "cell_type": "code",
   "execution_count": null,
   "metadata": {},
   "outputs": [],
   "source": [
    "import numpy as np\n",
    "\n",
    "eip = np.array([[1,2], [3, 4], [5, 6]])\n",
    "\n",
    "bool_idx = (eip > 2)   # Find the elements of a that are bigger than 2;\n",
    "                     # this returns a numpy array of Booleans of the same\n",
    "                     # shape as a, where each slot of bool_idx tells\n",
    "                     # whether that element of a is > 2.\n",
    "\n",
    "print(bool_idx)      # Prints \"[[False False]\n",
    "                     #          [ True  True]\n",
    "                     #          [ True  True]]\"\n",
    "\n",
    "# We use boolean array indexing to construct a rank 1 array\n",
    "# consisting of the elements of a corresponding to the True values\n",
    "# of bool_idx\n",
    "print(eip[bool_idx])  # Prints \"[3 4 5 6]\"\n",
    "\n",
    "# We can do all of the above in a single concise statement:\n",
    "print(eip[eip > 2])     # Prints \"[3 4 5 6]\""
   ]
  },
  {
   "cell_type": "markdown",
   "metadata": {},
   "source": [
    "Datatypes\n",
    "\n",
    "Every numpy array is a grid of elements of the same type. Numpy provides a large set of numeric datatypes that you can use to construct arrays. Numpy tries to guess a datatype when you create an array, but functions that construct arrays usually also include an optional argument to explicitly specify the datatype. Here is an example:"
   ]
  },
  {
   "cell_type": "code",
   "execution_count": null,
   "metadata": {},
   "outputs": [],
   "source": [
    "import numpy as np\n",
    "\n",
    "eip = np.array([1, 2])   # Let numpy choose the datatype\n",
    "print(eip.dtype)         # Prints \"int64\"\n",
    "\n",
    "eip = np.array([1.0, 2.0])   # Let numpy choose the datatype\n",
    "print(eip.dtype)             # Prints \"float64\"\n",
    "\n",
    "eip = np.array([1, 2], dtype=np.int64)   # Force a particular datatype\n",
    "print(eip.dtype)                         # Prints \"int64\""
   ]
  },
  {
   "cell_type": "markdown",
   "metadata": {},
   "source": [
    "Array math\n",
    "\n",
    "Basic mathematical functions operate elementwise on arrays, and are available both as operator overloads and as functions in the numpy module:"
   ]
  },
  {
   "cell_type": "code",
   "execution_count": null,
   "metadata": {},
   "outputs": [],
   "source": [
    "import numpy as np\n",
    "\n",
    "eip = np.array([[1,2],[3,4]], dtype=np.float64)\n",
    "mlblr = np.array([[5,6],[7,8]], dtype=np.float64)\n",
    "\n",
    "# Elementwise sum; both produce the array\n",
    "# [[ 6.0  8.0]\n",
    "#  [10.0 12.0]]\n",
    "print(eip + mlblr)\n",
    "print(np.add(eip, mlblr))\n",
    "\n",
    "# Elementwise difference; both produce the array\n",
    "# [[-4.0 -4.0]\n",
    "#  [-4.0 -4.0]]\n",
    "print(eip - mlblr)\n",
    "print(np.subtract(eip, mlblr))\n",
    "\n",
    "# Elementwise product; both produce the array\n",
    "# [[ 5.0 12.0]\n",
    "#  [21.0 32.0]]\n",
    "print(eip * mlblr)\n",
    "print(np.multiply(eip, mlblr))\n",
    "\n",
    "# Elementwise division; both produce the array\n",
    "# [[ 0.2         0.33333333]\n",
    "#  [ 0.42857143  0.5       ]]\n",
    "print(eip / mlblr)\n",
    "print(np.divide(eip, mlblr))\n",
    "\n",
    "# Elementwise square root; produces the array\n",
    "# [[ 1.          1.41421356]\n",
    "#  [ 1.73205081  2.        ]]\n",
    "print(np.sqrt(eip))"
   ]
  },
  {
   "cell_type": "code",
   "execution_count": null,
   "metadata": {},
   "outputs": [],
   "source": [
    "import numpy as np\n",
    "\n",
    "eip = np.array([[1,2],[3,4]])\n",
    "mlblr = np.array([[5,6],[7,8]])\n",
    "\n",
    "v = np.array([9,10])\n",
    "w = np.array([11, 12])\n",
    "\n",
    "# Inner product of vectors; both produce 219\n",
    "print(v.dot(w))\n",
    "print(np.dot(v, w))\n",
    "\n",
    "# Matrix / vector product; both produce the rank 1 array [29 67]\n",
    "print(eip.dot(v))\n",
    "print(np.dot(eip, v))\n",
    "\n",
    "# Matrix / matrix product; both produce the rank 2 array\n",
    "# [[19 22]\n",
    "#  [43 50]]\n",
    "print(eip.dot(mlblr))\n",
    "print(np.dot(eip, mlblr))"
   ]
  },
  {
   "cell_type": "code",
   "execution_count": null,
   "metadata": {},
   "outputs": [],
   "source": [
    "import numpy as np\n",
    "\n",
    "eip = np.array([[1,2],[3,4]])\n",
    "\n",
    "print(np.sum(eip))  # Compute sum of all elements; prints \"10\"\n",
    "print(np.sum(eip, axis=0))  # Compute sum of each column; prints \"[4 6]\"\n",
    "print(np.sum(eip, axis=1))  # Compute sum of each row; prints \"[3 7]\""
   ]
  },
  {
   "cell_type": "code",
   "execution_count": null,
   "metadata": {},
   "outputs": [],
   "source": [
    "import numpy as np\n",
    "\n",
    "eip = np.array([[1,2], [3,4]])\n",
    "print(eip)    # Prints \"[[1 2]\n",
    "            #          [3 4]]\"\n",
    "print(eip.T)  # Prints \"[[1 3]\n",
    "            #          [2 4]]\"\n",
    "\n",
    "# Note that taking the transpose of a rank 1 array does nothing:\n",
    "mlblr = np.array([1,2,3])\n",
    "print(mlblr)    # Prints \"[1 2 3]\"\n",
    "print(mlblr.T)  # Prints \"[1 2 3]\""
   ]
  },
  {
   "cell_type": "markdown",
   "metadata": {},
   "source": [
    "Broadcasting\n",
    "\n",
    "Broadcasting is a powerful mechanism that allows numpy to work with arrays of different shapes when performing arithmetic operations. Frequently we have a smaller array and a larger array, and we want to use the smaller array multiple times to perform some operation on the larger array.\n",
    "\n",
    "For example, suppose that we want to add a constant vector to each row of a matrix. We could do it like this:"
   ]
  },
  {
   "cell_type": "code",
   "execution_count": null,
   "metadata": {},
   "outputs": [],
   "source": [
    "import numpy as np\n",
    "\n",
    "# We will add the vector v to each row of the matrix x,\n",
    "# storing the result in the matrix y\n",
    "eip = np.array([[1,2,3], [4,5,6], [7,8,9], [10, 11, 12]])\n",
    "mlblr = np.array([1, 0, 1])\n",
    "eip_in = np.empty_like(eip)   # Create an empty matrix with the same shape as eip\n",
    "\n",
    "# Add the vector mlblr to each row of the matrix eip with an explicit loop\n",
    "for i in range(4):\n",
    "    eip_in[i, :] = eip[i, :] + mlblr\n",
    "\n",
    "# Now eip_in is the following\n",
    "# [[ 2  2  4]\n",
    "#  [ 5  5  7]\n",
    "#  [ 8  8 10]\n",
    "#  [11 11 13]]\n",
    "print(eip_in)"
   ]
  },
  {
   "cell_type": "code",
   "execution_count": null,
   "metadata": {},
   "outputs": [],
   "source": [
    "import numpy as np\n",
    "\n",
    "# We will add the vector mlblr to each row of the matrix eip,\n",
    "# storing the result in the matrix y\n",
    "eip = np.array([[1,2,3], [4,5,6], [7,8,9], [10, 11, 12]])\n",
    "mlblr = np.array([1, 0, 1])\n",
    "mlblr_in = np.tile(mlblr, (4, 1))   # Stack 4 copies of mlblr on top of each other\n",
    "print(mlblr_in)                 # Prints \"[[1 0 1]\n",
    "                          #          [1 0 1]\n",
    "                          #          [1 0 1]\n",
    "                          #          [1 0 1]]\"\n",
    "eip_in = eip + mlblr_in  # Add eip and mlblr_in elementwise\n",
    "print(eip_in)  # Prints \"[[ 2  2  4\n",
    "          #          [ 5  5  7]\n",
    "          #          [ 8  8 10]\n",
    "          #          [11 11 13]]\""
   ]
  },
  {
   "cell_type": "code",
   "execution_count": null,
   "metadata": {},
   "outputs": [],
   "source": [
    "import numpy as np\n",
    "\n",
    "# We will add the vector eip_in to each row of the matrix eip,\n",
    "# storing the result in the matrix mlblr\n",
    "eip = np.array([[1,2,3], [4,5,6], [7,8,9], [10, 11, 12]])\n",
    "eip_in = np.array([1, 0, 1])\n",
    "mlblr = eip + eip_in  # Add eip_in to each row of eip using broadcasting\n",
    "print(mlblr)  # Prints \"[[ 2  2  4]\n",
    "          #          [ 5  5  7]\n",
    "          #          [ 8  8 10]\n",
    "          #          [11 11 13]]\""
   ]
  },
  {
   "cell_type": "code",
   "execution_count": null,
   "metadata": {},
   "outputs": [],
   "source": [
    "import numpy as np\n",
    "\n",
    "# Compute outer product of vectors\n",
    "eip = np.array([1,2,3])  # eip has shape (3,)\n",
    "eip_in = np.array([4,5])    # eip_in has shape (2,)\n",
    "# To compute an outer product, we first reshape eip to be a column\n",
    "# vector of shape (3, 1); we can then broadcast it against eip_in to yield\n",
    "# an output of shape (3, 2), which is the outer product of eip and eip_in:\n",
    "# [[ 4  5]\n",
    "#  [ 8 10]\n",
    "#  [12 15]]\n",
    "print(np.reshape(eip, (3, 1)) * eip_in)\n",
    "\n",
    "# Add a vector to each row of a matrix\n",
    "mlblr = np.array([[1,2,3], [4,5,6]])\n",
    "# mlblr has shape (2, 3) and eip has shape (3,) so they broadcast to (2, 3),\n",
    "# giving the following matrix:\n",
    "# [[2 4 6]\n",
    "#  [5 7 9]]\n",
    "print(mlblr + eip)\n",
    "\n",
    "# Add a vector to each column of a matrix\n",
    "# mlblr has shape (2, 3) and eip_in has shape (2,).\n",
    "# If we transpose mlblr then it has shape (3, 2) and can be broadcast\n",
    "# against eip_in to yield a result of shape (3, 2); transposing this result\n",
    "# yields the final result of shape (2, 3) which is the matrix mlblr with\n",
    "# the vector eip_in added to each column. Gives the following matrix:\n",
    "# [[ 5  6  7]\n",
    "#  [ 9 10 11]]\n",
    "print((mlblr.T + eip_in).T)\n",
    "# Another solution is to reshape eip_in to be a column vector of shape (2, 1);\n",
    "# we can then broadcast it directly against mlblr to produce the same\n",
    "# output.\n",
    "print(mlblr + np.reshape(eip_in, (2, 1)))\n",
    "\n",
    "# Multiply a matrix by a constant:\n",
    "# mlblr has shape (2, 3). Numpy treats scalars as arrays of shape ();\n",
    "# these can be broadcast together to shape (2, 3), producing the\n",
    "# following array:\n",
    "# [[ 2  4  6]\n",
    "#  [ 8 10 12]]\n",
    "print(mlblr * 2)"
   ]
  },
  {
   "cell_type": "markdown",
   "metadata": {},
   "source": [
    "Image operations\n",
    "\n",
    "SciPy provides some basic functions to work with images. For example, it has functions to read images from disk into numpy arrays, to write numpy arrays to disk as images, and to resize images. Here is a simple example that showcases these functions:"
   ]
  },
  {
   "cell_type": "code",
   "execution_count": null,
   "metadata": {},
   "outputs": [],
   "source": [
    "from scipy.misc import imread, imsave, imresize\n",
    "\n",
    "# Read an JPEG image into a numpy array\n",
    "eip = imread('assets/cat.jpg')\n",
    "print(eip.dtype, eip.shape)  # Prints \"uint8 (400, 248, 3)\"\n",
    "\n",
    "# We can tint the image by scaling each of the color channels\n",
    "# by a different scalar constant. The image has shape (400, 248, 3);\n",
    "# we multiply it by the array [1, 0.95, 0.9] of shape (3,);\n",
    "# numpy broadcasting means that this leaves the red channel unchanged,\n",
    "# and multiplies the green and blue channels by 0.95 and 0.9\n",
    "# respectively.\n",
    "eip_in = eip * [1, 0.95, 0.9]\n",
    "\n",
    "# Resize the tinted image to be 300 by 300 pixels.\n",
    "eip_in = imresize(eip_in, (300, 300))\n",
    "\n",
    "# Write the tinted image back to disk\n",
    "imsave('assets/cat_tinted.jpg', eip_in)"
   ]
  },
  {
   "cell_type": "markdown",
   "metadata": {},
   "source": [
    "Distance between points\n",
    "\n",
    "SciPy defines some useful functions for computing distances between sets of points.\n",
    "\n",
    "The function scipy.spatial.distance.pdist computes the distance between all pairs of points in a given set:"
   ]
  },
  {
   "cell_type": "code",
   "execution_count": null,
   "metadata": {},
   "outputs": [],
   "source": [
    "import numpy as np\n",
    "from scipy.spatial.distance import pdist, squareform\n",
    "\n",
    "# Create the following array where each row is a point in 2D space:\n",
    "# [[0 1]\n",
    "#  [1 0]\n",
    "#  [2 0]]\n",
    "eip = np.array([[0, 1], [1, 0], [2, 0]])\n",
    "print(eip)\n",
    "\n",
    "# Compute the Euclidean distance between all rows of eip.\n",
    "# mlblr[i, j] is the Euclidean distance between eip[i, :] and eip[j, :],\n",
    "# and mlblr is the following array:\n",
    "# [[ 0.          1.41421356  2.23606798]\n",
    "#  [ 1.41421356  0.          1.        ]\n",
    "#  [ 2.23606798  1.          0.        ]]\n",
    "mlblr = squareform(pdist(eip, 'euclidean'))\n",
    "print(mlblr)"
   ]
  },
  {
   "cell_type": "markdown",
   "metadata": {},
   "source": [
    "Plotting\n",
    "\n",
    "The most important function in matplotlib is plot, which allows you to plot 2D data. Here is a simple example:"
   ]
  },
  {
   "cell_type": "code",
   "execution_count": null,
   "metadata": {},
   "outputs": [],
   "source": [
    "import numpy as np\n",
    "import matplotlib.pyplot as plt\n",
    "\n",
    "# Compute the eip and mlblr coordinates for points on a sine curve\n",
    "eip = np.arange(0, 3 * np.pi, 0.1)\n",
    "mlblr = np.sin(eip)\n",
    "\n",
    "# Plot the points using matplotlib\n",
    "plt.plot(eip, mlblr)\n",
    "plt.show()  # You must call plt.show() to make graphics appear."
   ]
  },
  {
   "cell_type": "code",
   "execution_count": null,
   "metadata": {},
   "outputs": [],
   "source": [
    "import numpy as np\n",
    "import matplotlib.pyplot as plt\n",
    "\n",
    "# Compute the eip and y coordinates for points on sine and cosine curves\n",
    "eip = np.arange(0, 3 * np.pi, 0.1)\n",
    "y_sin = np.sin(eip)\n",
    "y_cos = np.cos(eip)\n",
    "\n",
    "# Plot the points using matplotlib\n",
    "plt.plot(eip, y_sin)\n",
    "plt.plot(eip, y_cos)\n",
    "plt.xlabel('x axis label')\n",
    "plt.ylabel('y axis label')\n",
    "plt.title('Sine and Cosine')\n",
    "plt.legend(['Sine', 'Cosine'])\n",
    "plt.show()"
   ]
  },
  {
   "cell_type": "markdown",
   "metadata": {},
   "source": [
    "Subplots\n",
    "\n",
    "You can plot different things in the same figure using the subplot function. Here is an example:"
   ]
  },
  {
   "cell_type": "code",
   "execution_count": null,
   "metadata": {},
   "outputs": [],
   "source": [
    "import numpy as np\n",
    "import matplotlib.pyplot as plt\n",
    "\n",
    "# Compute the x and y coordinates for points on sine and cosine curves\n",
    "eip = np.arange(0, 3 * np.pi, 0.1)\n",
    "y_sin = np.sin(eip)\n",
    "y_cos = np.cos(eip)\n",
    "\n",
    "# Set up a subplot grid that has height 2 and width 1,\n",
    "# and set the first such subplot as active.\n",
    "plt.subplot(2, 1, 1)\n",
    "\n",
    "# Make the first plot\n",
    "plt.plot(eip, y_sin)\n",
    "plt.title('Sine')\n",
    "\n",
    "# Set the second subplot as active, and make the second plot.\n",
    "plt.subplot(2, 1, 2)\n",
    "plt.plot(eip, y_cos)\n",
    "plt.title('Cosine')\n",
    "\n",
    "# Show the figure.\n",
    "plt.show()"
   ]
  },
  {
   "cell_type": "markdown",
   "metadata": {},
   "source": [
    "Images\n",
    "\n",
    "You can use the imshow function to show images. Here is an example:"
   ]
  },
  {
   "cell_type": "code",
   "execution_count": null,
   "metadata": {},
   "outputs": [],
   "source": [
    "import numpy as np\n",
    "from scipy.misc import imread, imresize\n",
    "import matplotlib.pyplot as plt\n",
    "\n",
    "img = imread('assets/cat.jpg')\n",
    "img_tinted = img * [1, 0.95, 0.9]\n",
    "\n",
    "# Show the original image\n",
    "plt.subplot(1, 2, 1)\n",
    "plt.imshow(img)\n",
    "\n",
    "# Show the tinted image\n",
    "plt.subplot(1, 2, 2)\n",
    "\n",
    "# A slight gotcha with imshow is that it might give strange results\n",
    "# if presented with data that is not uint8. To work around this, we\n",
    "# explicitly cast the image to uint8 before displaying it.\n",
    "plt.imshow(np.uint8(img_tinted))\n",
    "plt.show()"
   ]
  },
  {
   "cell_type": "code",
   "execution_count": null,
   "metadata": {},
   "outputs": [],
   "source": []
  }
 ],
 "metadata": {
  "kernelspec": {
   "display_name": "Python 3",
   "language": "python",
   "name": "python3"
  }
 },
 "nbformat": 4,
 "nbformat_minor": 2
}
